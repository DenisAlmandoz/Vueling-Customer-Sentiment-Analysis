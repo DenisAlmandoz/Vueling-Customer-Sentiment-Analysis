{
 "cells": [
  {
   "cell_type": "code",
   "execution_count": 13,
   "metadata": {},
   "outputs": [],
   "source": [
    "from transformers import AutoTokenizer, AutoModelForSequenceClassification\n",
    "import torch\n",
    "import requests\n",
    "from bs4 import BeautifulSoup\n",
    "import re\n",
    "import pandas as pd\n",
    "import numpy as np"
   ]
  },
  {
   "attachments": {},
   "cell_type": "markdown",
   "metadata": {},
   "source": [
    "#Collect Reviews"
   ]
  },
  {
   "cell_type": "code",
   "execution_count": 14,
   "metadata": {},
   "outputs": [],
   "source": [
    "#Collect Reviews\n",
    "\n",
    "response = requests.get('https://www.airlinequality.com/airline-reviews/vueling-airlines/')\n",
    "soup = BeautifulSoup(response.text, 'html.parser')\n",
    "review_elements = soup.find_all('div', class_='text_content')\n",
    "reviews = []\n",
    "for element in review_elements:\n",
    "    review = element.get_text().strip()\n",
    "    reviews.append(review)"
   ]
  },
  {
   "cell_type": "code",
   "execution_count": 15,
   "metadata": {},
   "outputs": [
    {
     "name": "stdout",
     "output_type": "stream",
     "text": [
      "✅ Trip Verified | Unpleasant Experience with Vueling Airlines: Excessive and Unreasonable Baggage Charges and rude staff. Recent trip from Paris to La Coruña, Spain, the experience was far from the quality service one would expect from a prominent airline operating from one of the world's top tourist destinations. Upon arrival at the airport in Paris, I encountered an agent at the counter who seemed to lack proficiency in English or Spanish. Given Paris's global appeal, I was taken aback by the language barrier, which made communication and problem-solving unnecessarily difficult. My family and I (a group of 6) had already paid for three extra suitcases. Additionally, we had three carry-on bags that conformed to your airline's size specifications. However, the counter agent insisted we had to pay extra for each carry-on to take them onboard. The lack of effective communication compounded the frustration of this unexpected charge. Even when faced with the inconvenience of either losing what we had already paid for tickets or allowing our vacation to be marred, we chose to accommodate your airlines' demands. Thus, we agreed to pay an additional $150, albeit begrudgingly. However, to our utter surprise, we were informed the charges were actually double - $300 - due to a short layover in Barcelona. This seemed illogical and unfair as our final destination was La Coruña, and the stopover was not of our choosing. More so, our bags were to be checked directly to our final destination. Our attempts to discuss this discrepancy were ignored, leaving us no choice but to yield to these unjust charges. To further compound our disappointment, the carry-ons, for which we paid $300, were not allowed on the cabin with us but were handled as checked luggage. These bags contained valuable items not intended for stowage in the cargo hold and lacked the necessary locks for such handling. In summary, my family and I felt taken advantage of and robbed of an additional $300. Our journey was tainted by unwarranted stress and unjustified costs. We were left feeling helpless, with our only recourse being to write this review in hopes it may prevent future travelers from encountering similar or worse experiences. I urge Vueling Airlines to address these issues promptly and reconsider their approach to customer service, particularly communication and transparency regarding their policies.\n",
      "✅ Trip Verified | The Vueling website has proven to be deceptive and misleading, offering a false sense of economy during the ticket purchasing process. This unsettling experience unfolds when customers are denied access to the cost of their hand luggage until after they have already made the payment for their ticket. To their dismay, they are then confronted with an additional charge of +45 euros for the privilege of bringing their hand luggage on board. Such practices are both disingenuous and unfair, as customers should be provided with transparent and accurate information regarding all associated costs prior to committing to a purchase. By intentionally withholding essential details until after payment, Vueling undermines the trust and confidence of its customers, tarnishing the overall experience of using their services. In an era where consumers expect honesty and integrity from companies, this unfortunate incident highlights a severe lack of transparency on Vueling's part. To foster trust and maintain a reputable image, it is crucial for businesses to prioritize open communication and upfront disclosure of all relevant fees and charges. Potential travelers must be made aware of the hidden costs of hand luggage from the outset, allowing them to make informed decisions and avoid any unpleasant surprises. By rectifying these misleading practices and adopting a more honest approach, Vueling would not only regain the trust of its customers but also ensure a more positive and respectful customer experience.\n",
      "✅ Trip Verified |  When we arrived at Gatwick late Saturday evening, my luggage (and that of other passengers) did not come off the carousel. There was no sign of any Vueling agent, but the LGW baggage handler who was clearing the carousel said we should go through to 'landside\" and report the missing bags to an office 'next to M&S'. With no Vueling agent available, we didn't really have much choice. Unfortunately, the office mentioned was closed. The next morning, I managed to speak to Vueling by phone (something I have since been unable to repeat). The customer services person clearly didn't believe me when I said there had been no Vueling agent available, and said she would need to email her supervisor. Two days later, i am still waiting to hear what they are doing to find my bag. I have been unable to speak to a person because I don't have the 'PIR' code they should have given me. They don't appear to care about me and my lost bag ! I accept Vueling is 'cheap' but to charge people extra for checked baggage, lose it, and then not help to find it is appalling.\n",
      "✅ Trip Verified |  Flight was delayed. Airplane was dirty. Staff wasn’t efficient. Landing was horrible. Overall, my experience was terrible and I would not recommend this airline to anyone.\n",
      "✅ Trip Verified | Shocking service. Avoid this airline. Two weeks in a row I booked the 14:10 flight 19th and 26th June 2023) Both times the airline changed it to 19:15. I checked in online both times. Each time boarding was delayed. Then, both times, every person that had checked in online was not actually checked-in in the system. This meant that boarding gate staff had to manually re-check in every such person and issue them a paper ticket. Both flights eventually arrived in Barcelona after midnight compared to 17:25 per the original booking. Reason for delay; technical issues. You can say that again, but not to me. I won’t be there.\n",
      "✅ Trip Verified | They knew about the flight delay for 1.5hrs before the embarkation has started (and had even sent an email notification!). But suddenly they decided to put all the people at the airplane. And after everybody got onboard they announced that we have to wait for 1.5hrs inside the plane! That's madness and shouldn't be happening in 21st century. Vueling - Never Again!\n",
      "✅ Trip Verified | Horrible customer service. We bought a ticket for a child under 2 years, which is normally not charged. Vueling incorrectly charge the cost of a seat. We asked for a refund and your answer twice is: “We cannot process refunds of products and services purchased”. So they first incorrectly charge us a cost and then they say they cannot refund us. I didn't go to school long enough to understand this.\n",
      "✅ Trip Verified |  Absolutely terrible, arrive to check in, 13 passengers all with hand luggage under 10kg and got told we all need to pay 50 euro for each bag. We tried to refuse but were told pay or not fly. 1 lad slid his bag away unnoticed, rest of us paid 600 euro in all. Felt ripped off, the lad who slid his bag away got on plane no questions asked.\n",
      "✅ Trip Verified |  Paid for a priority ticket travelling with my partner, the check-in staff didn't even look to the priority lane to motion us forward, we had to almost barge forward. The staff member took offence until I Said to her that we were waiting in the above said queue. Boarding was late, no fault of the airline or crew. Here is where it gets interesting. As soon as we boarded I needed to go to the toilet, as the terminal toilet was out of order. I asked as soon as I sat down and was told the front toilet was out of order and was told to wait until we are in the air to use the toilet at the back. Shortly after take off I saw a cabin crew member use the so called out of order toilet. To add Insult to injury the seatbelt sign was kept on way after we had levelled off. The crew were up preparing for food and drink service. As they were about to wheel the food trolley down just in front of me I asked them now a third time that I urgently needed to use the toilet. Their reply was after the meal service. I said this is the third time asking and you are doing meal service with the seatbelt sign still on.  This is obviously a strategy concocted by the crew to do uninterrupted service whilst denying paying passengers the right to use the lavatories. One crew member was forcefully telling me to wait till the sign was off. Now if there was up coming turbulence then the meal and drink service would be suspended and the seatbelt sign would come on. But, to use this strategy as trick to do their little bit of work and then chat in the galley with the curtain drawn is just unacceptable. Holding your passengers captive to satisfy efficiency comes from a poor work culture and in my book is pure laziness. To keep the the front lavatory solely for staff use is unacceptable.\n",
      "✅ Trip Verified |  I will never book with Vueling again. We booked a $300 ticket from Barcelona to Spain for our honeymoon. We were involuntarily booted from our flight because it was overbooked. They could not get us onto another flight for 12 hours. Our original flight was non stop but instead we got booked on a connecting flight that was 6 hours. We were not treated with kindness at all but instead they acted like they didn’t care and we were inconveniencing them.  We paid for our tickets and they let people that didn’t have tickets on the plane because they were former employees and kicked us off. Absolute garbage of an airline. Horrible customer service. Do not book them unless you want to waste your whole day at the airport and get treated poorly.\n"
     ]
    }
   ],
   "source": [
    "# Print the extracted reviews\n",
    "for review in reviews:\n",
    "    print(review)"
   ]
  },
  {
   "attachments": {},
   "cell_type": "markdown",
   "metadata": {},
   "source": [
    "#Data cleaning"
   ]
  },
  {
   "cell_type": "code",
   "execution_count": 16,
   "metadata": {},
   "outputs": [
    {
     "name": "stdout",
     "output_type": "stream",
     "text": [
      "                                              review\n",
      "0  Unpleasant Experience with Vueling Airlines: E...\n",
      "1  The Vueling website has proven to be deceptive...\n",
      "2  When we arrived at Gatwick late Saturday eveni...\n",
      "3  Flight was delayed. Airplane was dirty. Staff ...\n",
      "4  Shocking service. Avoid this airline. Two week...\n",
      "5  They knew about the flight delay for 1.5hrs be...\n",
      "6  Horrible customer service. We bought a ticket ...\n",
      "7  Absolutely terrible, arrive to check in, 13 pa...\n",
      "8  Paid for a priority ticket travelling with my ...\n",
      "9  I will never book with Vueling again. We booke...\n"
     ]
    }
   ],
   "source": [
    "updated_reviews = []\n",
    "for review in reviews:\n",
    "    # Split the string at the \"|\" symbol and retrieve the portion after it\n",
    "    updated_text = review.split(\"|\")[-1].strip()\n",
    "    updated_reviews.append(updated_text)\n",
    "    df = pd.DataFrame(np.array(updated_reviews), columns=['review'])\n",
    "\n",
    "print(df)"
   ]
  },
  {
   "attachments": {},
   "cell_type": "markdown",
   "metadata": {},
   "source": [
    "#Instantiate Model"
   ]
  },
  {
   "cell_type": "code",
   "execution_count": 17,
   "metadata": {},
   "outputs": [],
   "source": [
    "tokenizer = AutoTokenizer.from_pretrained('nlptown/bert-base-multilingual-uncased-sentiment')\n",
    "\n",
    "model = AutoModelForSequenceClassification.from_pretrained('nlptown/bert-base-multilingual-uncased-sentiment')\n"
   ]
  },
  {
   "attachments": {},
   "cell_type": "markdown",
   "metadata": {},
   "source": [
    "#Encode and Calculate Sentiment"
   ]
  },
  {
   "cell_type": "code",
   "execution_count": 21,
   "metadata": {},
   "outputs": [
    {
     "name": "stdout",
     "output_type": "stream",
     "text": [
      "                                              review  sentiment\n",
      "0  Unpleasant Experience with Vueling Airlines: E...          2\n",
      "1  The Vueling website has proven to be deceptive...          1\n",
      "2  When we arrived at Gatwick late Saturday eveni...          2\n",
      "3  Flight was delayed. Airplane was dirty. Staff ...          1\n",
      "4  Shocking service. Avoid this airline. Two week...          1\n",
      "5  They knew about the flight delay for 1.5hrs be...          1\n",
      "6  Horrible customer service. We bought a ticket ...          1\n",
      "7  Absolutely terrible, arrive to check in, 13 pa...          1\n",
      "8  Paid for a priority ticket travelling with my ...          4\n",
      "9  I will never book with Vueling again. We booke...          1\n"
     ]
    }
   ],
   "source": [
    "def sentiment_score(review):\n",
    "    tokens = tokenizer.encode(review, return_tensors='pt')\n",
    "    result = model(tokens)\n",
    "    return int(torch.argmax(result.logits))+1\n",
    "\n",
    "df['sentiment'] = df['review'].apply(lambda x: sentiment_score(x[:512]))\n",
    "print(df)"
   ]
  }
 ],
 "metadata": {
  "kernelspec": {
   "display_name": "Python 3",
   "language": "python",
   "name": "python3"
  },
  "language_info": {
   "codemirror_mode": {
    "name": "ipython",
    "version": 3
   },
   "file_extension": ".py",
   "mimetype": "text/x-python",
   "name": "python",
   "nbconvert_exporter": "python",
   "pygments_lexer": "ipython3",
   "version": "3.11.3"
  },
  "orig_nbformat": 4
 },
 "nbformat": 4,
 "nbformat_minor": 2
}
